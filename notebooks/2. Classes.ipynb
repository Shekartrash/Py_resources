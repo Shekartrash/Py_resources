{
  "cells": [
    {
      "attachments": {},
      "cell_type": "markdown",
      "metadata": {},
      "source": [
        "## `PEP8`"
      ]
    },
    {
      "attachments": {},
      "cell_type": "markdown",
      "metadata": {},
      "source": [
        "## `Our First Class`"
      ]
    },
    {
      "cell_type": "code",
      "execution_count": 1,
      "metadata": {},
      "outputs": [],
      "source": [
        "class MercedezBenz:\n",
        "    pass"
      ]
    },
    {
      "cell_type": "code",
      "execution_count": 2,
      "metadata": {},
      "outputs": [
        {
          "data": {
            "text/plain": [
              "__main__.MercedezBenz"
            ]
          },
          "execution_count": 2,
          "metadata": {},
          "output_type": "execute_result"
        }
      ],
      "source": [
        "MercedezBenz"
      ]
    },
    {
      "cell_type": "code",
      "execution_count": 4,
      "metadata": {},
      "outputs": [
        {
          "data": {
            "text/plain": [
              "type"
            ]
          },
          "metadata": {},
          "output_type": "display_data"
        }
      ],
      "source": [
        "type(MercedezBenz)"
      ]
    },
    {
      "cell_type": "code",
      "execution_count": 5,
      "metadata": {},
      "outputs": [
        {
          "data": {
            "text/plain": [
              "(object,)"
            ]
          },
          "metadata": {},
          "output_type": "display_data"
        }
      ],
      "source": [
        "MercedezBenz.__bases__"
      ]
    },
    {
      "cell_type": "code",
      "execution_count": 6,
      "metadata": {},
      "outputs": [
        {
          "data": {
            "text/plain": [
              "'MercedezBenz'"
            ]
          },
          "metadata": {},
          "output_type": "display_data"
        }
      ],
      "source": [
        "MercedezBenz.__name__"
      ]
    },
    {
      "cell_type": "code",
      "execution_count": 7,
      "metadata": {},
      "outputs": [
        {
          "data": {
            "text/plain": [
              "<__main__.MercedezBenz at 0x7f787da693d0>"
            ]
          },
          "metadata": {},
          "output_type": "display_data"
        }
      ],
      "source": [
        "MercedezBenz()"
      ]
    },
    {
      "cell_type": "code",
      "execution_count": 8,
      "metadata": {},
      "outputs": [],
      "source": [
        "m1 = MercedezBenz()\n",
        "m2 = MercedezBenz()"
      ]
    },
    {
      "cell_type": "code",
      "execution_count": 9,
      "metadata": {},
      "outputs": [
        {
          "data": {
            "text/plain": [
              "<__main__.MercedezBenz at 0x7f787d9cb6d0>"
            ]
          },
          "metadata": {},
          "output_type": "display_data"
        }
      ],
      "source": [
        "m1"
      ]
    },
    {
      "cell_type": "code",
      "execution_count": 10,
      "metadata": {},
      "outputs": [
        {
          "data": {
            "text/plain": [
              "<__main__.MercedezBenz at 0x7f787d9cb370>"
            ]
          },
          "metadata": {},
          "output_type": "display_data"
        }
      ],
      "source": [
        "m2"
      ]
    },
    {
      "cell_type": "code",
      "execution_count": 11,
      "metadata": {},
      "outputs": [
        {
          "data": {
            "text/plain": [
              "False"
            ]
          },
          "metadata": {},
          "output_type": "display_data"
        }
      ],
      "source": [
        "m2 == m1"
      ]
    },
    {
      "attachments": {},
      "cell_type": "markdown",
      "metadata": {},
      "source": [
        "## `Class State`"
      ]
    },
    {
      "cell_type": "code",
      "execution_count": 42,
      "metadata": {},
      "outputs": [],
      "source": [
        "class MercedezBenz:\n",
        "    doors = 2\n",
        "    wheels = 4"
      ]
    },
    {
      "cell_type": "code",
      "execution_count": 0,
      "metadata": {},
      "outputs": [],
      "source": [
        "# __dict__"
      ]
    },
    {
      "cell_type": "code",
      "execution_count": 43,
      "metadata": {},
      "outputs": [
        {
          "data": {
            "text/plain": [
              "mappingproxy({'__module__': '__main__',\n",
              "              'doors': 2,\n",
              "              'wheels': 4,\n",
              "              '__dict__': <attribute '__dict__' of 'MercedezBenz' objects>,\n",
              "              '__weakref__': <attribute '__weakref__' of 'MercedezBenz' objects>,\n",
              "              '__doc__': None})"
            ]
          },
          "metadata": {},
          "output_type": "display_data"
        }
      ],
      "source": [
        "MercedezBenz.__dict__"
      ]
    },
    {
      "cell_type": "code",
      "execution_count": 44,
      "metadata": {},
      "outputs": [],
      "source": [
        "MercedezBenz.doors = 4"
      ]
    },
    {
      "cell_type": "code",
      "execution_count": 45,
      "metadata": {},
      "outputs": [],
      "source": [
        "MercedezBenz.model = 'G'"
      ]
    },
    {
      "cell_type": "code",
      "execution_count": 46,
      "metadata": {},
      "outputs": [
        {
          "data": {
            "text/plain": [
              "mappingproxy({'__module__': '__main__',\n",
              "              'doors': 4,\n",
              "              'wheels': 4,\n",
              "              '__dict__': <attribute '__dict__' of 'MercedezBenz' objects>,\n",
              "              '__weakref__': <attribute '__weakref__' of 'MercedezBenz' objects>,\n",
              "              '__doc__': None,\n",
              "              'model': 'G'})"
            ]
          },
          "metadata": {},
          "output_type": "display_data"
        }
      ],
      "source": [
        "MercedezBenz.__dict__"
      ]
    },
    {
      "cell_type": "code",
      "execution_count": 47,
      "metadata": {},
      "outputs": [],
      "source": [
        "m3 = MercedezBenz()\n",
        "m4 = MercedezBenz()"
      ]
    },
    {
      "cell_type": "code",
      "execution_count": 48,
      "metadata": {},
      "outputs": [
        {
          "data": {
            "text/plain": [
              "4"
            ]
          },
          "metadata": {},
          "output_type": "display_data"
        }
      ],
      "source": [
        "m3.doors"
      ]
    },
    {
      "cell_type": "code",
      "execution_count": 50,
      "metadata": {},
      "outputs": [
        {
          "data": {
            "text/plain": [
              "('G', 'G')"
            ]
          },
          "metadata": {},
          "output_type": "display_data"
        }
      ],
      "source": [
        "m4.model, m3.model"
      ]
    },
    {
      "attachments": {},
      "cell_type": "markdown",
      "metadata": {},
      "source": [
        "## `Methods And Behaviour`"
      ]
    },
    {
      "cell_type": "code",
      "execution_count": 142,
      "metadata": {},
      "outputs": [],
      "source": [
        "class MercedezBenz:\n",
        "    doors = 4\n",
        "    wheels = 4\n",
        "    model = 'G'"
      ]
    },
    {
      "cell_type": "code",
      "execution_count": 143,
      "metadata": {},
      "outputs": [],
      "source": [
        "def drive():\n",
        "    return \"A car is being driven\""
      ]
    },
    {
      "cell_type": "code",
      "execution_count": 144,
      "metadata": {},
      "outputs": [
        {
          "data": {
            "text/plain": [
              "'A car is being driven'"
            ]
          },
          "metadata": {},
          "output_type": "display_data"
        }
      ],
      "source": [
        "drive()"
      ]
    },
    {
      "cell_type": "code",
      "execution_count": 146,
      "metadata": {},
      "outputs": [],
      "source": [
        "class MercedezBenz:\n",
        "    doors = 4\n",
        "    wheels = 4\n",
        "    model = 'G'\n",
        "\n",
        "    def drive(self):\n",
        "        return self"
      ]
    },
    {
      "cell_type": "code",
      "execution_count": 147,
      "metadata": {},
      "outputs": [],
      "source": [
        "m1 = MercedezBenz()"
      ]
    },
    {
      "cell_type": "code",
      "execution_count": 148,
      "metadata": {},
      "outputs": [
        {
          "data": {
            "text/plain": [
              "<__main__.MercedezBenz at 0x7f787d587100>"
            ]
          },
          "metadata": {},
          "output_type": "display_data"
        }
      ],
      "source": [
        "m1.drive()"
      ]
    },
    {
      "cell_type": "code",
      "execution_count": 149,
      "metadata": {},
      "outputs": [
        {
          "data": {
            "text/plain": [
              "<__main__.MercedezBenz at 0x7f787d587100>"
            ]
          },
          "metadata": {},
          "output_type": "display_data"
        }
      ],
      "source": [
        "m1"
      ]
    },
    {
      "cell_type": "code",
      "execution_count": 150,
      "metadata": {},
      "outputs": [
        {
          "data": {
            "text/plain": [
              "True"
            ]
          },
          "metadata": {},
          "output_type": "display_data"
        }
      ],
      "source": [
        "m1 == m1.drive()"
      ]
    },
    {
      "cell_type": "code",
      "execution_count": 151,
      "metadata": {},
      "outputs": [
        {
          "data": {
            "text/plain": [
              "True"
            ]
          },
          "metadata": {},
          "output_type": "display_data"
        }
      ],
      "source": [
        "m1 is m1.drive()"
      ]
    },
    {
      "cell_type": "code",
      "execution_count": 152,
      "metadata": {},
      "outputs": [
        {
          "data": {
            "text/plain": [
              "False"
            ]
          },
          "metadata": {},
          "output_type": "display_data"
        }
      ],
      "source": [
        "m1 == MercedezBenz"
      ]
    },
    {
      "cell_type": "code",
      "execution_count": 153,
      "metadata": {},
      "outputs": [],
      "source": [
        "class MercedezBenz:\n",
        "    doors = 4\n",
        "    wheels = 4\n",
        "    model = 'G'\n",
        "\n",
        "    def drive(self):\n",
        "        return f\"A Mercedez is driving. And it is {self}\\n\""
      ]
    },
    {
      "cell_type": "code",
      "execution_count": 154,
      "metadata": {},
      "outputs": [],
      "source": [
        "m1 = MercedezBenz()\n",
        "m2 = MercedezBenz()"
      ]
    },
    {
      "cell_type": "code",
      "execution_count": 155,
      "metadata": {},
      "outputs": [
        {
          "data": {
            "text/plain": [
              "'A Mercedez is driving. And it is <__main__.MercedezBenz object at 0x7f787d8734c0>\\n'"
            ]
          },
          "metadata": {},
          "output_type": "display_data"
        }
      ],
      "source": [
        "m1.drive()"
      ]
    },
    {
      "cell_type": "code",
      "execution_count": 156,
      "metadata": {},
      "outputs": [
        {
          "data": {
            "text/plain": [
              "'A Mercedez is driving. And it is <__main__.MercedezBenz object at 0x7f787d873bb0>\\n'"
            ]
          },
          "metadata": {},
          "output_type": "display_data"
        }
      ],
      "source": [
        "m2.drive()"
      ]
    },
    {
      "cell_type": "code",
      "execution_count": 157,
      "metadata": {},
      "outputs": [],
      "source": [
        "# tracing drive"
      ]
    },
    {
      "cell_type": "code",
      "execution_count": 158,
      "metadata": {},
      "outputs": [
        {
          "data": {
            "text/plain": [
              "<function __main__.MercedezBenz.drive(self)>"
            ]
          },
          "metadata": {},
          "output_type": "display_data"
        }
      ],
      "source": [
        "MercedezBenz.drive"
      ]
    },
    {
      "cell_type": "code",
      "execution_count": 159,
      "metadata": {},
      "outputs": [
        {
          "data": {
            "text/plain": [
              "function"
            ]
          },
          "metadata": {},
          "output_type": "display_data"
        }
      ],
      "source": [
        "type(MercedezBenz.drive)"
      ]
    },
    {
      "cell_type": "code",
      "execution_count": 160,
      "metadata": {},
      "outputs": [
        {
          "data": {
            "text/plain": [
              "<bound method MercedezBenz.drive of <__main__.MercedezBenz object at 0x7f787d8734c0>>"
            ]
          },
          "metadata": {},
          "output_type": "display_data"
        }
      ],
      "source": [
        "m1.drive"
      ]
    },
    {
      "cell_type": "code",
      "execution_count": 161,
      "metadata": {},
      "outputs": [
        {
          "data": {
            "text/plain": [
              "<bound method MercedezBenz.drive of <__main__.MercedezBenz object at 0x7f787d873bb0>>"
            ]
          },
          "metadata": {},
          "output_type": "display_data"
        }
      ],
      "source": [
        "m2.drive"
      ]
    },
    {
      "cell_type": "code",
      "execution_count": 162,
      "metadata": {},
      "outputs": [
        {
          "data": {
            "text/plain": [
              "method"
            ]
          },
          "metadata": {},
          "output_type": "display_data"
        }
      ],
      "source": [
        "type(m2.drive)"
      ]
    },
    {
      "attachments": {},
      "cell_type": "markdown",
      "metadata": {},
      "source": [
        "## `Instance Attribtues`"
      ]
    },
    {
      "cell_type": "code",
      "execution_count": 176,
      "metadata": {},
      "outputs": [],
      "source": [
        "class MercedezBenz:\n",
        "    doors = 4\n",
        "    wheels = 4\n",
        "    model = 'G'\n",
        "\n",
        "\n",
        "    def drive(self):\n",
        "        print(f\"A Mercedez is driving. It is {self}\\n\")"
      ]
    },
    {
      "cell_type": "code",
      "execution_count": 177,
      "metadata": {},
      "outputs": [],
      "source": [
        "m1 = MercedezBenz()\n",
        "m2 = MercedezBenz()"
      ]
    },
    {
      "cell_type": "code",
      "execution_count": 179,
      "metadata": {},
      "outputs": [
        {
          "data": {
            "text/plain": [
              "(4, 4)"
            ]
          },
          "metadata": {},
          "output_type": "display_data"
        }
      ],
      "source": [
        "m1.doors, m2.doors"
      ]
    },
    {
      "cell_type": "code",
      "execution_count": 180,
      "metadata": {},
      "outputs": [
        {
          "data": {
            "text/plain": [
              "('G', 'G')"
            ]
          },
          "metadata": {},
          "output_type": "display_data"
        }
      ],
      "source": [
        "m1.model, m2.model"
      ]
    },
    {
      "cell_type": "code",
      "execution_count": 181,
      "metadata": {},
      "outputs": [],
      "source": [
        "m1.color = \"black\"\n",
        "m2.color = \"red\""
      ]
    },
    {
      "cell_type": "code",
      "execution_count": 182,
      "metadata": {},
      "outputs": [
        {
          "data": {
            "text/plain": [
              "('black', 'red')"
            ]
          },
          "metadata": {},
          "output_type": "display_data"
        }
      ],
      "source": [
        "m1.color, m2.color"
      ]
    },
    {
      "cell_type": "code",
      "execution_count": 189,
      "metadata": {},
      "outputs": [],
      "source": [
        "class MercedezBenz:\n",
        "    doors = 4\n",
        "    wheels = 4\n",
        "    model = 'G'\n",
        "\n",
        "    def __init__(self, color=\"black\"):  # after instance creation, but before it is returned\n",
        "        self.color = color\n",
        "\n",
        "    def drive(self):\n",
        "        print(f\"A Mercedez is driving. It is {self}\\n\")"
      ]
    },
    {
      "cell_type": "code",
      "execution_count": 190,
      "metadata": {},
      "outputs": [
        {
          "data": {
            "text/plain": [
              "<__main__.MercedezBenz at 0x7f787d85ca60>"
            ]
          },
          "metadata": {},
          "output_type": "display_data"
        }
      ],
      "source": [
        "MercedezBenz()"
      ]
    },
    {
      "cell_type": "code",
      "execution_count": 191,
      "metadata": {},
      "outputs": [
        {
          "data": {
            "text/plain": [
              "'black'"
            ]
          },
          "metadata": {},
          "output_type": "display_data"
        }
      ],
      "source": [
        "MercedezBenz().color"
      ]
    },
    {
      "cell_type": "code",
      "execution_count": 186,
      "metadata": {},
      "outputs": [
        {
          "data": {
            "text/plain": [
              "<__main__.MercedezBenz at 0x7f787d680bb0>"
            ]
          },
          "metadata": {},
          "output_type": "display_data"
        }
      ],
      "source": [
        "MercedezBenz(\"blue\")"
      ]
    },
    {
      "cell_type": "code",
      "execution_count": 187,
      "metadata": {},
      "outputs": [],
      "source": [
        "m1 = MercedezBenz(\"black\")\n",
        "m2 = MercedezBenz(\"red\")"
      ]
    },
    {
      "cell_type": "code",
      "execution_count": 188,
      "metadata": {},
      "outputs": [
        {
          "data": {
            "text/plain": [
              "('black', 'red')"
            ]
          },
          "metadata": {},
          "output_type": "display_data"
        }
      ],
      "source": [
        "m1.color, m2.color"
      ]
    },
    {
      "attachments": {},
      "cell_type": "markdown",
      "metadata": {},
      "source": [
        "## `Alternatively: getattr() And setattr()`"
      ]
    },
    {
      "cell_type": "code",
      "execution_count": 224,
      "metadata": {},
      "outputs": [],
      "source": [
        "class MercedezBenz:\n",
        "    doors = 4\n",
        "    wheels = 4\n",
        "    model = 'G'\n",
        "\n",
        "    def __init__(self, color=\"black\"):  # after instance creation, but before it is returned\n",
        "        self.color = color\n",
        "\n",
        "    def drive(self):\n",
        "        print(f\"A Mercedez is driving. It is {self}\\n\")"
      ]
    },
    {
      "cell_type": "code",
      "execution_count": 225,
      "metadata": {},
      "outputs": [],
      "source": [
        "m1 = MercedezBenz()\n",
        "m2 = MercedezBenz(\"red\")"
      ]
    },
    {
      "cell_type": "code",
      "execution_count": 226,
      "metadata": {},
      "outputs": [],
      "source": [
        "# object.attribtue syntax"
      ]
    },
    {
      "cell_type": "code",
      "execution_count": 227,
      "metadata": {},
      "outputs": [
        {
          "data": {
            "text/plain": [
              "4"
            ]
          },
          "metadata": {},
          "output_type": "display_data"
        }
      ],
      "source": [
        "MercedezBenz.doors"
      ]
    },
    {
      "cell_type": "code",
      "execution_count": 228,
      "metadata": {},
      "outputs": [
        {
          "data": {
            "text/plain": [
              "'black'"
            ]
          },
          "metadata": {},
          "output_type": "display_data"
        }
      ],
      "source": [
        "m1.color"
      ]
    },
    {
      "cell_type": "code",
      "execution_count": 229,
      "metadata": {},
      "outputs": [
        {
          "data": {
            "text/plain": [
              "4"
            ]
          },
          "metadata": {},
          "output_type": "display_data"
        }
      ],
      "source": [
        "m2. wheels"
      ]
    },
    {
      "cell_type": "code",
      "execution_count": 230,
      "metadata": {},
      "outputs": [
        {
          "data": {
            "text/plain": [
              "'black'"
            ]
          },
          "metadata": {},
          "output_type": "display_data"
        }
      ],
      "source": [
        "getattr(m1, \"color\")"
      ]
    },
    {
      "cell_type": "code",
      "execution_count": 231,
      "metadata": {},
      "outputs": [
        {
          "data": {
            "text/plain": [
              "'black'"
            ]
          },
          "metadata": {},
          "output_type": "display_data"
        }
      ],
      "source": [
        "m1.color"
      ]
    },
    {
      "cell_type": "code",
      "execution_count": 232,
      "metadata": {},
      "outputs": [],
      "source": [
        "m2.color = \"reddish\""
      ]
    },
    {
      "cell_type": "code",
      "execution_count": 233,
      "metadata": {},
      "outputs": [],
      "source": [
        "setattr(m2, \"color\", \"less reddish\")"
      ]
    },
    {
      "cell_type": "code",
      "execution_count": 234,
      "metadata": {},
      "outputs": [
        {
          "data": {
            "text/plain": [
              "'less reddish'"
            ]
          },
          "metadata": {},
          "output_type": "display_data"
        }
      ],
      "source": [
        "m2.color"
      ]
    },
    {
      "cell_type": "code",
      "execution_count": 235,
      "metadata": {},
      "outputs": [],
      "source": [
        "objs = [m1, m2]\n",
        "\n",
        "attribs = [\"color\", \"doors\"]\n",
        "values = [\"navyblue\", 3]"
      ]
    },
    {
      "cell_type": "code",
      "execution_count": 236,
      "metadata": {},
      "outputs": [],
      "source": [
        "for obj in objs:\n",
        "    for attrib, val in zip(attribs, values):\n",
        "        setattr(obj, attrib, val) "
      ]
    },
    {
      "cell_type": "code",
      "execution_count": 237,
      "metadata": {},
      "outputs": [
        {
          "data": {
            "text/plain": [
              "('navyblue', 'navyblue')"
            ]
          },
          "metadata": {},
          "output_type": "display_data"
        }
      ],
      "source": [
        "m1.color, m2.color"
      ]
    },
    {
      "cell_type": "code",
      "execution_count": 238,
      "metadata": {},
      "outputs": [
        {
          "data": {
            "text/plain": [
              "(3, 3)"
            ]
          },
          "metadata": {},
          "output_type": "display_data"
        }
      ],
      "source": [
        "m1.doors, m2.doors"
      ]
    },
    {
      "cell_type": "code",
      "execution_count": 239,
      "metadata": {},
      "outputs": [],
      "source": [
        "# quick detour"
      ]
    },
    {
      "cell_type": "code",
      "execution_count": 241,
      "metadata": {},
      "outputs": [
        {
          "data": {
            "text/plain": [
              "[('color', 'navyblue'), ('doors', 3)]"
            ]
          },
          "metadata": {},
          "output_type": "display_data"
        }
      ],
      "source": [
        "list(zip(attribs, values))"
      ]
    },
    {
      "cell_type": "code",
      "execution_count": 242,
      "metadata": {},
      "outputs": [
        {
          "ename": "AttributeError",
          "evalue": "AttributeError: 'MercedezBenz' object has no attribute 'wingspan'",
          "output_type": "error",
          "traceback": [
            "\u001b[0;31m---------------------------------------------------------------------------",
            "Traceback (most recent call last)",
            "    at line 1 in <module>",
            "AttributeError: 'MercedezBenz' object has no attribute 'wingspan'"
          ]
        }
      ],
      "source": [
        "m2.wingspan"
      ]
    },
    {
      "cell_type": "code",
      "execution_count": 243,
      "metadata": {},
      "outputs": [
        {
          "name": "stdout",
          "output_type": "stream",
          "text": [
            "'MercedezBenz' object has no attribute 'wingspan'\n"
          ]
        }
      ],
      "source": [
        "try:\n",
        "    print(m2.wingspan)\n",
        "except AttributeError as e:\n",
        "    print(e)"
      ]
    },
    {
      "cell_type": "code",
      "execution_count": 244,
      "metadata": {},
      "outputs": [
        {
          "data": {
            "text/plain": [
              "'No Attribute Found'"
            ]
          },
          "metadata": {},
          "output_type": "display_data"
        }
      ],
      "source": [
        "getattr(m2, \"wingspan\", \"No Attribute Found\")"
      ]
    },
    {
      "attachments": {},
      "cell_type": "markdown",
      "metadata": {},
      "source": [
        "## `Revisting self`"
      ]
    },
    {
      "cell_type": "code",
      "execution_count": 265,
      "metadata": {},
      "outputs": [],
      "source": [
        "class MercedezBenz:\n",
        "    doors = 4\n",
        "    model = 'G'\n",
        "    wheels = 4\n",
        "\n",
        "    def __init__(self, color):\n",
        "        self.color = color\n",
        "\n",
        "    def drive(self):\n",
        "        return f\"A Mercedez is driving. It is {self}\\n\"\n",
        "\n",
        "    def auto_drive(self):\n",
        "        return \"Auto-driving for now...\""
      ]
    },
    {
      "cell_type": "code",
      "execution_count": 262,
      "metadata": {},
      "outputs": [],
      "source": [
        "m1 = MercedezBenz(\"pink\")"
      ]
    },
    {
      "cell_type": "code",
      "execution_count": 263,
      "metadata": {},
      "outputs": [
        {
          "data": {
            "text/plain": [
              "'Auto-driving for now...'"
            ]
          },
          "metadata": {},
          "output_type": "display_data"
        }
      ],
      "source": [
        "m1.auto_drive()"
      ]
    },
    {
      "cell_type": "code",
      "execution_count": 264,
      "metadata": {},
      "outputs": [],
      "source": [
        "# C#, java: this (reserved)"
      ]
    },
    {
      "attachments": {},
      "cell_type": "markdown",
      "metadata": {},
      "source": [
        "## `Class and Static Methods`"
      ]
    },
    {
      "cell_type": "code",
      "execution_count": 11,
      "metadata": {},
      "outputs": [],
      "source": [
        "class MercedezBenz:\n",
        "    doors = 4\n",
        "    model = 'G'\n",
        "    wheels = 4\n",
        "\n",
        "    def __init__(self, color=\"black\"):\n",
        "        self.color = color\n",
        "\n",
        "    def drive(self):\n",
        "        return f\"A Mercedez is driving. It is {self}\\n\"\n",
        "\n",
        "    @staticmethod\n",
        "    def auto_drive():\n",
        "        return \"Auto-driving for now...\""
      ]
    },
    {
      "cell_type": "code",
      "execution_count": 12,
      "metadata": {},
      "outputs": [],
      "source": [
        "m1 = MercedezBenz()"
      ]
    },
    {
      "cell_type": "code",
      "execution_count": 13,
      "metadata": {},
      "outputs": [
        {
          "data": {
            "text/plain": [
              "'Auto-driving for now...'"
            ]
          },
          "metadata": {},
          "output_type": "display_data"
        }
      ],
      "source": [
        "m1.auto_drive()"
      ]
    },
    {
      "cell_type": "code",
      "execution_count": 14,
      "metadata": {},
      "outputs": [
        {
          "data": {
            "text/plain": [
              "'Auto-driving for now...'"
            ]
          },
          "metadata": {},
          "output_type": "display_data"
        }
      ],
      "source": [
        "MercedezBenz.auto_drive()"
      ]
    },
    {
      "cell_type": "code",
      "execution_count": 15,
      "metadata": {},
      "outputs": [],
      "source": [
        "class MercedezBenz:\n",
        "    doors = 4\n",
        "    model = 'G'\n",
        "    wheels = 4\n",
        "\n",
        "    def __init__(self, color=\"black\"):\n",
        "        self.color = color\n",
        "\n",
        "    def drive(self):\n",
        "        return f\"A Mercedez is driving. It is {self}\\n\"\n",
        "\n",
        "    @staticmethod\n",
        "    def auto_drive():\n",
        "        return \"Auto-driving for now...\"\n",
        "\n",
        "    @classmethod\n",
        "    def create_lease(cls):\n",
        "        print(f\"A lease for {cls} will be created\")"
      ]
    },
    {
      "cell_type": "code",
      "execution_count": 16,
      "metadata": {},
      "outputs": [
        {
          "name": "stdout",
          "output_type": "stream",
          "text": [
            "A lease for <class '__main__.MercedezBenz'> will be created\n"
          ]
        }
      ],
      "source": [
        "MercedezBenz.create_lease()"
      ]
    },
    {
      "cell_type": "code",
      "execution_count": 17,
      "metadata": {},
      "outputs": [],
      "source": [
        "m1 = MercedezBenz()"
      ]
    },
    {
      "cell_type": "code",
      "execution_count": 18,
      "metadata": {},
      "outputs": [
        {
          "name": "stdout",
          "output_type": "stream",
          "text": [
            "A lease for <class '__main__.MercedezBenz'> will be created\n"
          ]
        }
      ],
      "source": [
        "m1.create_lease()"
      ]
    },
    {
      "attachments": {},
      "cell_type": "markdown",
      "metadata": {},
      "source": [
        "## `BONUS: An Alternative Syntax`"
      ]
    },
    {
      "cell_type": "code",
      "execution_count": 49,
      "metadata": {},
      "outputs": [],
      "source": [
        "class MercedezBenz:\n",
        "    doors = 4\n",
        "    model = 'G'\n",
        "    wheels = 4\n",
        "\n",
        "    def __init__(self, color=\"black\"):\n",
        "        self.color = color\n",
        "\n",
        "    def drive(self):\n",
        "        return f\"A Mercedez is driving. It is {self}\\n\"\n",
        "\n",
        "    # @staticmethod\n",
        "    def auto_drive():\n",
        "        return \"Auto-driving for now...\"\n",
        "\n",
        "    def create_lease(cls):\n",
        "        print(f\"A lease for {cls} will be created\")\n",
        "\n",
        "\n",
        "    create_lease = classmethod(create_lease)\n",
        "    auto_drive = staticmethod(auto_drive)"
      ]
    },
    {
      "cell_type": "code",
      "execution_count": 50,
      "metadata": {},
      "outputs": [],
      "source": [
        "m1 = MercedezBenz()"
      ]
    },
    {
      "cell_type": "code",
      "execution_count": 51,
      "metadata": {},
      "outputs": [
        {
          "name": "stdout",
          "output_type": "stream",
          "text": [
            "A lease for <class '__main__.MercedezBenz'> will be created\n"
          ]
        }
      ],
      "source": [
        "m1.create_lease()"
      ]
    },
    {
      "cell_type": "code",
      "execution_count": 52,
      "metadata": {},
      "outputs": [
        {
          "data": {
            "text/plain": [
              "'Auto-driving for now...'"
            ]
          },
          "metadata": {},
          "output_type": "display_data"
        }
      ],
      "source": [
        "m1.auto_drive()"
      ]
    },
    {
      "attachments": {},
      "cell_type": "markdown",
      "metadata": {},
      "source": [
        "## `Dunder Dict`"
      ]
    },
    {
      "cell_type": "code",
      "execution_count": 54,
      "metadata": {},
      "outputs": [],
      "source": [
        "m1 = MercedezBenz(\"lavender\")"
      ]
    },
    {
      "cell_type": "code",
      "execution_count": 55,
      "metadata": {},
      "outputs": [],
      "source": [
        "# \"object.attribute\" syntax"
      ]
    },
    {
      "cell_type": "code",
      "execution_count": 56,
      "metadata": {},
      "outputs": [
        {
          "data": {
            "text/plain": [
              "'lavender'"
            ]
          },
          "metadata": {},
          "output_type": "display_data"
        }
      ],
      "source": [
        "m1.color"
      ]
    },
    {
      "cell_type": "code",
      "execution_count": 66,
      "metadata": {},
      "outputs": [
        {
          "data": {
            "text/plain": [
              "{'color': 'lavender', 'horse_power': 290}"
            ]
          },
          "metadata": {},
          "output_type": "display_data"
        }
      ],
      "source": [
        "m1.__dict__"
      ]
    },
    {
      "cell_type": "code",
      "execution_count": 58,
      "metadata": {},
      "outputs": [],
      "source": [
        "m2 = MercedezBenz(\"cyan\")"
      ]
    },
    {
      "cell_type": "code",
      "execution_count": 59,
      "metadata": {},
      "outputs": [
        {
          "data": {
            "text/plain": [
              "{'color': 'cyan'}"
            ]
          },
          "metadata": {},
          "output_type": "display_data"
        }
      ],
      "source": [
        "m2.__dict__"
      ]
    },
    {
      "cell_type": "code",
      "execution_count": 60,
      "metadata": {},
      "outputs": [],
      "source": [
        "m2.horse_power = 490"
      ]
    },
    {
      "cell_type": "code",
      "execution_count": 61,
      "metadata": {},
      "outputs": [
        {
          "data": {
            "text/plain": [
              "{'color': 'cyan', 'horse_power': 490}"
            ]
          },
          "metadata": {},
          "output_type": "display_data"
        }
      ],
      "source": [
        "m2.__dict__"
      ]
    },
    {
      "cell_type": "code",
      "execution_count": 65,
      "metadata": {},
      "outputs": [
        {
          "data": {
            "text/plain": [
              "{'color': 'lavender', 'horse_power': 290}"
            ]
          },
          "metadata": {},
          "output_type": "display_data"
        }
      ],
      "source": [
        "m1.__dict__"
      ]
    },
    {
      "cell_type": "code",
      "execution_count": 63,
      "metadata": {},
      "outputs": [],
      "source": [
        "m1.__dict__[\"horse_power\"] = 290"
      ]
    },
    {
      "cell_type": "code",
      "execution_count": 64,
      "metadata": {},
      "outputs": [
        {
          "data": {
            "text/plain": [
              "290"
            ]
          },
          "metadata": {},
          "output_type": "display_data"
        }
      ],
      "source": [
        "m1.horse_power"
      ]
    },
    {
      "attachments": {},
      "cell_type": "markdown",
      "metadata": {},
      "source": [
        "## `Class vs Instance __dict__`"
      ]
    },
    {
      "cell_type": "code",
      "execution_count": 68,
      "metadata": {},
      "outputs": [],
      "source": [
        "class MercedezBenz:\n",
        "    doors = 4\n",
        "    model = 'G'\n",
        "    wheels = 4\n",
        "\n",
        "    def __init__(self, color=\"black\"):\n",
        "        self.color = color\n",
        "\n",
        "    def drive(self):\n",
        "        return f\"A Mercedez is driving. It is {self}\\n\"\n",
        "\n",
        "    @staticmethod\n",
        "    def auto_drive():\n",
        "        return \"Auto-driving for now...\"\n",
        "\n",
        "    @classmethod\n",
        "    def create_lease(cls):\n",
        "        print(f\"A lease for {cls} will be created\")"
      ]
    },
    {
      "cell_type": "code",
      "execution_count": 69,
      "metadata": {},
      "outputs": [
        {
          "data": {
            "text/plain": [
              "mappingproxy({'__module__': '__main__',\n",
              "              'doors': 4,\n",
              "              'model': 'G',\n",
              "              'wheels': 4,\n",
              "              '__init__': <function __main__.MercedezBenz.__init__(self, color='black')>,\n",
              "              'drive': <function __main__.MercedezBenz.drive(self)>,\n",
              "              'auto_drive': <staticmethod at 0x7fc97d4e2ca0>,\n",
              "              'create_lease': <classmethod at 0x7fc97d4e2d60>,\n",
              "              '__dict__': <attribute '__dict__' of 'MercedezBenz' objects>,\n",
              "              '__weakref__': <attribute '__weakref__' of 'MercedezBenz' objects>,\n",
              "              '__doc__': None})"
            ]
          },
          "metadata": {},
          "output_type": "display_data"
        }
      ],
      "source": [
        "MercedezBenz.__dict__"
      ]
    },
    {
      "cell_type": "code",
      "execution_count": 70,
      "metadata": {},
      "outputs": [
        {
          "data": {
            "text/plain": [
              "mappingproxy"
            ]
          },
          "metadata": {},
          "output_type": "display_data"
        }
      ],
      "source": [
        "type(MercedezBenz.__dict__)"
      ]
    },
    {
      "cell_type": "code",
      "execution_count": 71,
      "metadata": {},
      "outputs": [],
      "source": [
        "# MRO -> method resolution order"
      ]
    },
    {
      "cell_type": "code",
      "execution_count": 73,
      "metadata": {},
      "outputs": [
        {
          "data": {
            "text/plain": [
              "{'color': 'lavender', 'horse_power': 290}"
            ]
          },
          "metadata": {},
          "output_type": "display_data"
        }
      ],
      "source": [
        "m1.__dict__"
      ]
    },
    {
      "cell_type": "code",
      "execution_count": 73,
      "metadata": {},
      "outputs": [],
      "source": [
        "# get attribute by name of \"__dict__\" \n",
        "# python goes looking for it in the naemspace, then the class\n",
        "# in the class, it finds it\n",
        "# the attribute name (__dict__) points to a descriptor\n",
        "# the descriptors get() is called\n",
        "# which returns a dictionary"
      ]
    },
    {
      "attachments": {},
      "cell_type": "markdown",
      "metadata": {},
      "source": [
        "## `BONUS: Careful With Mutables`"
      ]
    },
    {
      "cell_type": "code",
      "execution_count": 107,
      "metadata": {},
      "outputs": [],
      "source": [
        "class MercedezBenz:\n",
        "    doors = 5\n",
        "    model = 'G'\n",
        "    wheels = 4\n",
        "\n",
        "    def __init__(self, color=\"black\"):\n",
        "        self.color = color\n",
        "\n",
        "    def drive(self):\n",
        "        return f\"A Mercedez is driving. It is {self}\\n\"\n",
        "\n",
        "    @staticmethod\n",
        "    def auto_drive():\n",
        "        return \"Auto-driving for now...\"\n",
        "\n",
        "    @classmethod\n",
        "    def create_lease(cls):\n",
        "        print(f\"A lease for {cls} will be created\")"
      ]
    },
    {
      "cell_type": "code",
      "execution_count": 99,
      "metadata": {},
      "outputs": [
        {
          "data": {
            "text/plain": [
              "mappingproxy({'__module__': '__main__',\n",
              "              'doors': 4,\n",
              "              'model': 'G',\n",
              "              'wheels': 4,\n",
              "              '__init__': <function __main__.MercedezBenz.__init__(self, color='black')>,\n",
              "              'drive': <function __main__.MercedezBenz.drive(self)>,\n",
              "              'auto_drive': <staticmethod at 0x7fc97d56d370>,\n",
              "              'create_lease': <classmethod at 0x7fc97d56db20>,\n",
              "              '__dict__': <attribute '__dict__' of 'MercedezBenz' objects>,\n",
              "              '__weakref__': <attribute '__weakref__' of 'MercedezBenz' objects>,\n",
              "              '__doc__': None})"
            ]
          },
          "metadata": {},
          "output_type": "display_data"
        }
      ],
      "source": [
        "MercedezBenz.__dict__"
      ]
    },
    {
      "cell_type": "code",
      "execution_count": 100,
      "metadata": {},
      "outputs": [],
      "source": [
        "m1 = MercedezBenz()\n",
        "m2 = MercedezBenz()"
      ]
    },
    {
      "cell_type": "code",
      "execution_count": 101,
      "metadata": {},
      "outputs": [],
      "source": [
        "m1.doors = 2\n",
        "m2.doors = 3"
      ]
    },
    {
      "cell_type": "code",
      "execution_count": 102,
      "metadata": {},
      "outputs": [
        {
          "data": {
            "text/plain": [
              "(2, 3)"
            ]
          },
          "metadata": {},
          "output_type": "display_data"
        }
      ],
      "source": [
        "m1.doors, m2.doors"
      ]
    },
    {
      "cell_type": "code",
      "execution_count": 103,
      "metadata": {},
      "outputs": [],
      "source": [
        "m3 = MercedezBenz()"
      ]
    },
    {
      "cell_type": "code",
      "execution_count": 105,
      "metadata": {},
      "outputs": [
        {
          "data": {
            "text/plain": [
              "4"
            ]
          },
          "metadata": {},
          "output_type": "display_data"
        }
      ],
      "source": [
        "m3.doors"
      ]
    },
    {
      "cell_type": "code",
      "execution_count": 106,
      "metadata": {},
      "outputs": [],
      "source": [
        "# immutables: booleans, ints, floats, stirng, tuples"
      ]
    },
    {
      "cell_type": "code",
      "execution_count": 108,
      "metadata": {},
      "outputs": [],
      "source": [
        "# mutable: list"
      ]
    },
    {
      "cell_type": "code",
      "execution_count": 109,
      "metadata": {},
      "outputs": [],
      "source": [
        "class Tire:\n",
        "    def __init__(self, kind, distance_covered):\n",
        "        self.kind = kind\n",
        "        self.distance_covered = distance_covered"
      ]
    },
    {
      "cell_type": "code",
      "execution_count": 127,
      "metadata": {},
      "outputs": [],
      "source": [
        "class MercedezBenz:\n",
        "    doors = 5\n",
        "    model = 'G'\n",
        "    wheels = 4\n",
        "    tires = [Tire(\"operational\", 10) for i in range(4)]\n",
        "\n",
        "    def __init__(self, color=\"black\"):\n",
        "        self.color = color\n",
        "\n",
        "    def drive(self):\n",
        "        return f\"A Mercedez is driving. It is {self}\\n\"\n",
        "\n",
        "    @staticmethod\n",
        "    def auto_drive():\n",
        "        return \"Auto-driving for now...\"\n",
        "\n",
        "    @classmethod\n",
        "    def create_lease(cls):\n",
        "        print(f\"A lease for {cls} will be created\")"
      ]
    },
    {
      "cell_type": "code",
      "execution_count": 115,
      "metadata": {},
      "outputs": [],
      "source": [
        "m1 = MercedezBenz()"
      ]
    },
    {
      "cell_type": "code",
      "execution_count": 116,
      "metadata": {},
      "outputs": [
        {
          "data": {
            "text/plain": [
              "[<__main__.Tire at 0x7fc97d3baee0>,\n",
              " <__main__.Tire at 0x7fc97d3ba280>,\n",
              " <__main__.Tire at 0x7fc97d3ba940>,\n",
              " <__main__.Tire at 0x7fc97d3bad30>]"
            ]
          },
          "metadata": {},
          "output_type": "display_data"
        }
      ],
      "source": [
        "m1.tires"
      ]
    },
    {
      "cell_type": "code",
      "execution_count": 117,
      "metadata": {},
      "outputs": [],
      "source": [
        "m2 = MercedezBenz()"
      ]
    },
    {
      "cell_type": "code",
      "execution_count": 120,
      "metadata": {},
      "outputs": [
        {
          "data": {
            "text/plain": [
              "[<__main__.Tire at 0x7fc97d3baee0>,\n",
              " <__main__.Tire at 0x7fc97d3ba280>,\n",
              " <__main__.Tire at 0x7fc97d3ba940>,\n",
              " <__main__.Tire at 0x7fc97d3bad30>,\n",
              " <__main__.Tire at 0x7fc97d5ac2e0>]"
            ]
          },
          "metadata": {},
          "output_type": "display_data"
        }
      ],
      "source": [
        "m2.tires"
      ]
    },
    {
      "cell_type": "code",
      "execution_count": 119,
      "metadata": {},
      "outputs": [],
      "source": [
        "m1.tires.append(Tire(kind=\"spare\", distance_covered=100))"
      ]
    },
    {
      "cell_type": "code",
      "execution_count": 121,
      "metadata": {},
      "outputs": [
        {
          "data": {
            "text/plain": [
              "[<__main__.Tire at 0x7fc97d3baee0>,\n",
              " <__main__.Tire at 0x7fc97d3ba280>,\n",
              " <__main__.Tire at 0x7fc97d3ba940>,\n",
              " <__main__.Tire at 0x7fc97d3bad30>,\n",
              " <__main__.Tire at 0x7fc97d5ac2e0>]"
            ]
          },
          "metadata": {},
          "output_type": "display_data"
        }
      ],
      "source": [
        "MercedezBenz().tires"
      ]
    },
    {
      "attachments": {},
      "cell_type": "markdown",
      "metadata": {},
      "source": [
        "## `Access Control`"
      ]
    },
    {
      "cell_type": "code",
      "execution_count": 130,
      "metadata": {},
      "outputs": [],
      "source": [
        "m1 = MercedezBenz(\"lavender\")"
      ]
    },
    {
      "cell_type": "code",
      "execution_count": 135,
      "metadata": {},
      "outputs": [],
      "source": [
        "m1.doors += 1"
      ]
    },
    {
      "cell_type": "code",
      "execution_count": 136,
      "metadata": {},
      "outputs": [],
      "source": [
        "m1.doors = \"Andy\""
      ]
    },
    {
      "cell_type": "code",
      "execution_count": 137,
      "metadata": {},
      "outputs": [],
      "source": [
        "m1.doors = 1.2"
      ]
    },
    {
      "attachments": {},
      "cell_type": "markdown",
      "metadata": {},
      "source": [
        "## `Docstrings`"
      ]
    },
    {
      "cell_type": "code",
      "execution_count": 0,
      "metadata": {},
      "outputs": [],
      "source": [
        "# getattr()"
      ]
    },
    {
      "cell_type": "code",
      "execution_count": 141,
      "metadata": {},
      "outputs": [
        {
          "name": "stdout",
          "output_type": "stream",
          "text": [
            "Help on built-in function getattr in module builtins:\n",
            "\n",
            "getattr(...)\n",
            "    getattr(object, name[, default]) -> value\n",
            "    \n",
            "    Get a named attribute from an object; getattr(x, 'y') is equivalent to x.y.\n",
            "    When a default argument is given, it is returned when the attribute doesn't\n",
            "    exist; without it, an exception is raised in that case.\n",
            "\n"
          ]
        }
      ],
      "source": [
        "help(getattr)"
      ]
    },
    {
      "cell_type": "code",
      "execution_count": 150,
      "metadata": {},
      "outputs": [
        {
          "name": "stdout",
          "output_type": "stream",
          "text": [
            "Help on class Tire in module __main__:\n",
            "\n",
            "class Tire(builtins.object)\n",
            " |  Tire(kind, distance_covered)\n",
            " |  \n",
            " |  Methods defined here:\n",
            " |  \n",
            " |  __init__(self, kind, distance_covered)\n",
            " |      Initialize self.  See help(type(self)) for accurate signature.\n",
            " |  \n",
            " |  ----------------------------------------------------------------------\n",
            " |  Data descriptors defined here:\n",
            " |  \n",
            " |  __dict__\n",
            " |      dictionary for instance variables (if defined)\n",
            " |  \n",
            " |  __weakref__\n",
            " |      list of weak references to the object (if defined)\n",
            "\n"
          ]
        }
      ],
      "source": [
        "help(Tire)"
      ]
    },
    {
      "cell_type": "code",
      "execution_count": 148,
      "metadata": {},
      "outputs": [],
      "source": [
        "class Tire:\n",
        "    # \"\"\"Defines an automobile tire object.\n",
        "\n",
        "    # :param kind: the kind of tire, e.g. operational, spare, or winter\n",
        "    # :param distance_covered: the distance in km the tire has covered\n",
        "    # \"\"\"\n",
        "\n",
        "    def __init__(self, kind, distance_covered):\n",
        "        self.kind = kind\n",
        "        self.distance_covered = distance_covered"
      ]
    },
    {
      "cell_type": "code",
      "execution_count": 149,
      "metadata": {},
      "outputs": [
        {
          "data": {
            "text/plain": [
              "mappingproxy({'__module__': '__main__',\n",
              "              '__init__': <function __main__.Tire.__init__(self, kind, distance_covered)>,\n",
              "              '__dict__': <attribute '__dict__' of 'Tire' objects>,\n",
              "              '__weakref__': <attribute '__weakref__' of 'Tire' objects>,\n",
              "              '__doc__': None})"
            ]
          },
          "metadata": {},
          "output_type": "display_data"
        }
      ],
      "source": [
        " Tire.__dict__"
      ]
    }
  ],
  "metadata": {
    "kernelspec": {
      "display_name": "Python 3",
      "language": "python",
      "name": "python3"
    },
    "language_info": {
      "codemirror_mode": {
        "name": "ipython",
        "version": 3
      },
      "file_extension": ".py",
      "mimetype": "text/x-python",
      "name": "python",
      "nbconvert_exporter": "python",
      "pygments_lexer": "ipython3",
      "version": "3.11.9"
    }
  },
  "nbformat": 4,
  "nbformat_minor": 0
}
